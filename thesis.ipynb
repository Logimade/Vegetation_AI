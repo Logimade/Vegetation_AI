version https://git-lfs.github.com/spec/v1
oid sha256:456a87f5ef67d7130efc277082fe16786b893f5e4090d6a6c3216696c3032bab
size 302666630
